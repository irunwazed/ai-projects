{
  "nbformat": 4,
  "nbformat_minor": 0,
  "metadata": {
    "colab": {
      "provenance": [],
      "authorship_tag": "ABX9TyN8EPVbYsDwdfPmjhJglBry",
      "include_colab_link": true
    },
    "kernelspec": {
      "name": "python3",
      "display_name": "Python 3"
    },
    "language_info": {
      "name": "python"
    }
  },
  "cells": [
    {
      "cell_type": "markdown",
      "metadata": {
        "id": "view-in-github",
        "colab_type": "text"
      },
      "source": [
        "<a href=\"https://colab.research.google.com/github/irunwazed/ai-projects/blob/main/CNN_pengenalan_gambar.ipynb\" target=\"_parent\"><img src=\"https://colab.research.google.com/assets/colab-badge.svg\" alt=\"Open In Colab\"/></a>"
      ]
    },
    {
      "cell_type": "markdown",
      "source": [
        "PENGENALAN GAMBAR"
      ],
      "metadata": {
        "id": "U5AU5XX5Qi51"
      }
    },
    {
      "cell_type": "code",
      "source": [
        "import tensorflow as tf\n",
        "import numpy as np\n",
        "import matplotlib.pyplot as plt\n",
        "\n",
        "tf.__version__"
      ],
      "metadata": {
        "colab": {
          "base_uri": "https://localhost:8080/",
          "height": 36
        },
        "id": "viOko_SpSs-q",
        "outputId": "d34ea9b1-b1e2-4ca1-8fa1-ff51b16885d5"
      },
      "execution_count": 19,
      "outputs": [
        {
          "output_type": "execute_result",
          "data": {
            "text/plain": [
              "'2.14.0'"
            ],
            "application/vnd.google.colaboratory.intrinsic+json": {
              "type": "string"
            }
          },
          "metadata": {},
          "execution_count": 19
        }
      ]
    },
    {
      "cell_type": "code",
      "source": [
        "fmnist = tf.keras.datasets.fashion_mnist\n",
        "(training_images, training_labels), (test_images, test_labels) = fmnist.load_data()"
      ],
      "metadata": {
        "id": "dxGIfHydQe0x"
      },
      "execution_count": 16,
      "outputs": []
    },
    {
      "cell_type": "code",
      "source": [
        "labels = ['T-shirt/top', 'Trouser', 'Pullover', 'Dress', 'Coat', 'Sandal', 'Shirt', 'Sneaker', 'Bag', 'Ankle Boot']"
      ],
      "metadata": {
        "id": "kMDxG2M4QuPT"
      },
      "execution_count": 17,
      "outputs": []
    },
    {
      "cell_type": "code",
      "source": [
        "# dapat menggati 0 - 59999\n",
        "index = 40\n",
        "\n",
        "np.set_printoptions(linewidth=320)\n",
        "\n",
        "print(f'label : {labels[training_labels[index]]}')\n",
        "print(f'Image Pixel Array : \\n{training_images[index]}')\n",
        "\n",
        "\n",
        "# visual image\n",
        "plt.imshow(training_images[index], cmap='Greys')\n",
        "\n"
      ],
      "metadata": {
        "colab": {
          "base_uri": "https://localhost:8080/",
          "height": 988
        },
        "id": "0hfysrGxRUY2",
        "outputId": "137fbed3-35a3-44ca-f49a-2b9957f0d92b"
      },
      "execution_count": 21,
      "outputs": [
        {
          "output_type": "stream",
          "name": "stdout",
          "text": [
            "label : Shirt\n",
            "Image Pixel Array : \n",
            "[[  0   0   0   0   0   0   0   0   1   0   0  37 192 177 171 199  27   0   0   0   1   3   0   0   0   0   0   0]\n",
            " [  0   0   0   0   0   0   9   0   0   0   0 135 230 162 155 253 164  14   0   0   0   0   3   0   0   0   0   0]\n",
            " [  0   0   0   0   1   0   0   0  64 152 232 207 195 155 157 201 227 224 221 172  94   4   0   0   0   0   0   0]\n",
            " [  0   0   0   0   0   0 112 179 205 199 192 197 216 194 192 220 210 192 191 203 207 208  62   0   1   0   0   0]\n",
            " [  0   0   0   0   0  75 208 186 178 185 172 197 213 195 200 208 199 188 187 181 180 204 192   0   0   0   0   0]\n",
            " [  0   0   0   0   0 180 190 179 185 182 184 178 166 193 185 167 187 186 184 184 192 192 223  28   0   0   0   0]\n",
            " [  0   0   0   0   0 205 190 182 182 185 182 185 181 182 180 180 185 186 182 184 201 195 219  72   0   0   0   0]\n",
            " [  0   0   0   0   0 210 186 194 181 181 182 178 180 184 182 177 179 185 184 194 211 188 218  95   0   0   0   0]\n",
            " [  0   0   0   0   0 217 179 193 193 175 175 174 178 182 184 174 177 177 186 206 208 185 219 106   0   0   0   0]\n",
            " [  0   0   0   0  14 217 175 186 206 184 173 174 177 179 180 173 174 172 194 210 203 186 214 119   0   0   0   0]\n",
            " [  0   0   0   0  35 220 170 194 213 186 181 174 177 175 181 177 178 179 199 213 217 178 214 129   0   0   0   0]\n",
            " [  0   0   0   0  49 220 171 191 198 198 179 177 175 173 178 175 175 182 192 210 186 180 208 149   0   0   0   0]\n",
            " [  0   0   0   0  70 220 173 174 103 225 175 179 175 174 180 177 179 179 204 195 112 207 198 185   0   0   0   0]\n",
            " [  0   0   0   0  77 214 179 187  41 240 179 179 177 174 180 178 180 180 216 174  61 229 194 205   0   0   0   0]\n",
            " [  0   0   0   0  94 190 184 197   0 224 186 179 177 175 179 179 184 177 223 153  33 238 188 188   0   0   0   0]\n",
            " [  0   0   0   0 110 186 194 181   0 217 192 179 179 177 178 177 184 178 229 145   0 240 186 197   0   0   0   0]\n",
            " [  0   0   0   0 114 184 197 165   0 208 198 178 180 181 184 178 184 178 226 157   0 244 184 201   4   0   0   0]\n",
            " [  0   0   0   0 103 182 195 135   0 201 192 177 180 181 187 179 184 177 221 173   0 226 186 204  30   0   0   0]\n",
            " [  0   0   0   0  95 182 194  88   0 208 191 177 180 180 181 177 182 182 208 197   0 193 193 206  48   0   0   0]\n",
            " [  0   0   0   0  93 182 198  35   0 224 188 180 180 179 184 180 184 186 192 218   0 155 197 205  62   0   0   0]\n",
            " [  0   0   0   0  87 182 195   1   0 232 184 181 180 179 184 179 180 182 186 239   0 108 198 205  74   0   0   0]\n",
            " [  0   0   0   0  80 184 224   0   0 238 180 180 180 180 181 178 180 185 184 252   0  33 201 205  83   0   0   0]\n",
            " [  0   0   0   0  75 185 223   0   3 239 179 179 180 181 185 181 182 187 182 255  16   0 237 205  90   0   0   0]\n",
            " [  0   0   0   0  67 188 204   0  14 234 179 179 179 180 187 181 179 178 181 249  46   0 225 210  94   0   0   0]\n",
            " [  0   0   0   0  66 190 160   0   5 231 180 180 178 177 180 179 181 180 180 211  50   0 175 204 114   0   0   0]\n",
            " [  0   0   0   0 103 211 167   0   0 190 181 177 173 173 173 172 174 177 179 211  23   0 166 220 129   0   0   0]\n",
            " [  0   0   0   0  62 151 142   0   0 179 194 188 219 214 208 208 210 188 201 165   0   0 121 146  89   0   0   0]\n",
            " [  0   0   0   0   0   0   0   0   0   0  30  55  81  96  90 100  89  76  41   0   0   0   0   0   0   0   0   0]]\n"
          ]
        },
        {
          "output_type": "execute_result",
          "data": {
            "text/plain": [
              "<matplotlib.image.AxesImage at 0x7a7e72539180>"
            ]
          },
          "metadata": {},
          "execution_count": 21
        },
        {
          "output_type": "display_data",
          "data": {
            "text/plain": [
              "<Figure size 640x480 with 1 Axes>"
            ],
            "image/png": "[encoded data removed]"
          },
          "metadata": {}
        }
      ]
    },
    {
      "cell_type": "code",
      "source": [
        "# normalisasi\n",
        "training_images = training_images / 255.0\n",
        "test_images = test_images / 255.0"
      ],
      "metadata": {
        "id": "qWt7MTIuT6dl"
      },
      "execution_count": null,
      "outputs": []
    },
    {
      "cell_type": "code",
      "source": [
        "model = tf.keras.models.Sequential([\n",
        "    tf.keras.layers.Flatten(),\n",
        "    tf.keras.layers.Dense(128, activation=tf.nn.relu),\n",
        "    tf.keras.layers.Dense(10, activation=tf.nn.softmax)\n",
        "])\n",
        "\n",
        "model.compile(optimizer = tf.optimizers.Adam(), loss=tf.losses.SparseCategoricalCrossentropy(), metrics=['accuracy'])\n",
        "model.fit(training_images, training_labels, epochs=5)"
      ],
      "metadata": {
        "colab": {
          "base_uri": "https://localhost:8080/"
        },
        "id": "SbIetCgjUFb1",
        "outputId": "1dab76c0-b6df-49bc-ebbb-d9d5f39bd1ee"
      },
      "execution_count": 22,
      "outputs": [
        {
          "output_type": "stream",
          "name": "stdout",
          "text": [
            "Epoch 1/5\n",
            "1875/1875 [==============================] - 10s 5ms/step - loss: 2.7000 - accuracy: 0.7077\n",
            "Epoch 2/5\n",
            "1875/1875 [==============================] - 7s 4ms/step - loss: 0.6424 - accuracy: 0.7743\n",
            "Epoch 3/5\n",
            "1875/1875 [==============================] - 9s 5ms/step - loss: 0.5854 - accuracy: 0.7887\n",
            "Epoch 4/5\n",
            "1875/1875 [==============================] - 15s 8ms/step - loss: 0.5492 - accuracy: 0.7999\n",
            "Epoch 5/5\n",
            "1875/1875 [==============================] - 14s 8ms/step - loss: 0.5125 - accuracy: 0.8224\n"
          ]
        },
        {
          "output_type": "execute_result",
          "data": {
            "text/plain": [
              "<keras.src.callbacks.History at 0x7a7e6f68de10>"
            ]
          },
          "metadata": {},
          "execution_count": 22
        }
      ]
    },
    {
      "cell_type": "code",
      "source": [
        "model.evaluate(test_images, test_labels)"
      ],
      "metadata": {
        "colab": {
          "base_uri": "https://localhost:8080/"
        },
        "id": "TkInVKTrYKdm",
        "outputId": "68e146fb-144e-4bd4-ea3a-6e6a30d44dd6"
      },
      "execution_count": 23,
      "outputs": [
        {
          "output_type": "stream",
          "name": "stdout",
          "text": [
            "313/313 [==============================] - 1s 3ms/step - loss: 0.6489 - accuracy: 0.7870\n"
          ]
        },
        {
          "output_type": "execute_result",
          "data": {
            "text/plain": [
              "[0.6488854289054871, 0.7870000004768372]"
            ]
          },
          "metadata": {},
          "execution_count": 23
        }
      ]
    },
    {
      "cell_type": "code",
      "source": [
        "# load the image of the cat\n",
        "img = test_images[0]\n",
        "img_array = tf.keras.preprocessing.image.img_to_array(img)\n",
        "img_array = np.expand_dims(img_array, axis=0)\n",
        "\n",
        "# make prediction using the pre trained model\n",
        "predictions = model.predict(img_array)\n",
        "\n",
        "# plot the image and prediction\n",
        "plt.imshow(img)\n",
        "plt.title(\"Prediction : %s\" % (labels[np.argmax(predictions)]))\n",
        "plt.show()"
      ],
      "metadata": {
        "colab": {
          "base_uri": "https://localhost:8080/",
          "height": 469
        },
        "id": "g4IIUsMuYnCc",
        "outputId": "20c91a12-d703-4106-bd16-a9e79b02967d"
      },
      "execution_count": 24,
      "outputs": [
        {
          "output_type": "stream",
          "name": "stdout",
          "text": [
            "1/1 [==============================] - 0s 90ms/step\n"
          ]
        },
        {
          "output_type": "display_data",
          "data": {
            "text/plain": [
              "<Figure size 640x480 with 1 Axes>"
            ],
            "image/png": "[encoded data removed]"
          },
          "metadata": {}
        }
      ]
    }
  ]
}